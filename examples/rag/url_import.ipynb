{
 "cells": [
  {
   "cell_type": "code",
   "execution_count": 14,
   "metadata": {},
   "outputs": [
    {
     "name": "stdout",
     "output_type": "stream",
     "text": [
      "Internal Server Error\n"
     ]
    }
   ],
   "source": [
    "import requests\n",
    "import json\n",
    "\n",
    "def insert_url(url):\n",
    "    url = \"http://0.0.0.0:11435/api/insert_url_embeddings\"\n",
    "    data = {\n",
    "        \"url\": url,\n",
    "        \"check_existing\": True,\n",
    "        \"embeddings_db\": \"url_test\",\n",
    "        \"chunk_size\": 255,\n",
    "        \"overlap\": 50\n",
    "    }\n",
    "    headers = {\n",
    "        \"Content-Type\": \"application/json\"\n",
    "    }\n",
    "    response = requests.post(url, data=json.dumps(data), headers=headers)\n",
    "    print(response.text)\n",
    "\n",
    "insert_url(\"https://raw.githubusercontent.com/ollama/ollama/main/docs/api.md\")"
   ]
  },
  {
   "cell_type": "code",
   "execution_count": null,
   "metadata": {},
   "outputs": [],
   "source": [
    "r = requests.get(\"https://raw.githubusercontent.com/ollama/ollama/main/docs/api.md\")\n",
    "print(r.text)"
   ]
  },
  {
   "cell_type": "code",
   "execution_count": null,
   "metadata": {},
   "outputs": [],
   "source": []
  }
 ],
 "metadata": {
  "kernelspec": {
   "display_name": "Python 3",
   "language": "python",
   "name": "python3"
  },
  "language_info": {
   "codemirror_mode": {
    "name": "ipython",
    "version": 3
   },
   "file_extension": ".py",
   "mimetype": "text/x-python",
   "name": "python",
   "nbconvert_exporter": "python",
   "pygments_lexer": "ipython3",
   "version": "3.10.12"
  }
 },
 "nbformat": 4,
 "nbformat_minor": 2
}
