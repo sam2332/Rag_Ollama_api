{
 "cells": [
  {
   "cell_type": "code",
   "execution_count": 1,
   "metadata": {},
   "outputs": [],
   "source": [
    "import requests\n",
    "import json\n",
    "import os\n",
    "import time\n",
    "from datetime import datetime\n",
    "import requests\n",
    "import json\n",
    "import os\n",
    "import time\n",
    "from datetime import datetime\n",
    "def reset_embeddings_db():\n",
    "    url = \"http://localhost:11435/api/embeddings/reset_embeddings_db\"\n",
    "    response = requests.post(url, headers={\"Content-Type\": \"application/json\"}, data=json.dumps({\n",
    "        \"embeddings_db\":\"EmbeddingsTest\",\n",
    "    }))\n",
    "reset_embeddings_db()\n"
   ]
  },
  {
   "cell_type": "code",
   "execution_count": 2,
   "metadata": {},
   "outputs": [
    {
     "name": "stdout",
     "output_type": "stream",
     "text": [
      "null\n"
     ]
    }
   ],
   "source": [
    "def insert_url(url):\n",
    "    res = requests.get(url)\n",
    "    content = res.text\n",
    "    out = []\n",
    "    for line in content.split(\"\\n\"):\n",
    "        if line.startswith(\"#\"):\n",
    "            line = line.strip()\n",
    "        out.append(line)\n",
    "    content = \"\\n\".join(out)\n",
    "    url = \"http://localhost:11435/api/embeddings/insert_text_embeddings\"\n",
    "    data = {\n",
    "        \"source\":\"url\",\n",
    "        \"content\":content,\n",
    "        \"overlap\":20,\n",
    "        \"chunk_size\":512,\n",
    "        \"check_existing\":True,\n",
    "        \"embeddings_db\":\"EmbeddingsTest\"\n",
    "    }\n",
    "    headers = {\n",
    "        \"Content-Type\": \"application/json\"\n",
    "    }\n",
    "    response = requests.post(url, data=json.dumps(data), headers=headers)\n",
    "    print(response.text)\n",
    "\n",
    "insert_url(\"https://raw.githubusercontent.com/ollama/ollama/main/docs/api.md\")"
   ]
  },
  {
   "cell_type": "code",
   "execution_count": 4,
   "metadata": {},
   "outputs": [
    {
     "name": "stdout",
     "output_type": "stream",
     "text": [
      "The API provides various functionalities for interacting with local models, including generating completions and chats, creating, showing, copying, deleting, pulling, pushing models, and generating embeddings. It also supports listing running models. Each endpoint requires specific request parameters and returns corresponding JSON responses to enable seamless communication between the client and server.\n",
      "The API provides various functionalities for interacting with local models, including generating completions and chats, creating, showing, copying, deleting, pulling, pushing models, and generating embeddings. It also supports listing running models. Each endpoint requires specific request parameters and returns corresponding JSON responses to enable seamless communication between the client and server.\n"
     ]
    }
   ],
   "source": [
    "#markdown render to console\n",
    "def html2print(markdown_data):\n",
    "    print(markdown_data)\n",
    "    import markdown\n",
    "    from bs4 import BeautifulSoup\n",
    "    html = markdown.markdown(markdown_data)\n",
    "    soup = BeautifulSoup(html, \"html.parser\")\n",
    "    print(soup.get_text())\n",
    "    return soup\n",
    "\n",
    "\n",
    "def RAG(query):\n",
    "    url = \"http://localhost:11435/api/rag\"\n",
    "    data = {\n",
    "        \"prompt\":query,\n",
    "        \"model\":\"dolphin-mistral:latest\",\n",
    "        \"related_count\":5,\n",
    "        \"max_tokens\":100,\n",
    "        \"embeddings_db\":\"EmbeddingsTest\",\n",
    "        \"temperature\":0.9\n",
    "    }\n",
    "    headers = {\n",
    "        \"Content-Type\": \"application/json\"  \n",
    "    }\n",
    "    response = requests.post(url, data=json.dumps(data), headers=headers)\n",
    "    data= response.json()\n",
    "    html2print(data[\"message\"][\"content\"])\n",
    "\n",
    "RAG(\"write one paragraph about the API\")"
   ]
  },
  {
   "cell_type": "code",
   "execution_count": null,
   "metadata": {},
   "outputs": [],
   "source": []
  }
 ],
 "metadata": {
  "kernelspec": {
   "display_name": "Python 3",
   "language": "python",
   "name": "python3"
  },
  "language_info": {
   "codemirror_mode": {
    "name": "ipython",
    "version": 3
   },
   "file_extension": ".py",
   "mimetype": "text/x-python",
   "name": "python",
   "nbconvert_exporter": "python",
   "pygments_lexer": "ipython3",
   "version": "3.10.12"
  }
 },
 "nbformat": 4,
 "nbformat_minor": 2
}
