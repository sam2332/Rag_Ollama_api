{
 "cells": [
  {
   "cell_type": "code",
   "execution_count": 36,
   "metadata": {},
   "outputs": [],
   "source": [
    "import requests\n",
    "import json\n",
    "import os\n",
    "import time\n",
    "from datetime import datetime\n",
    "def reset_embeddings_db(ticket_id):\n",
    "    url = \"http://localhost:11435/api/embeddings/reset_embeddings_db\"\n",
    "    response = requests.post(url, headers={\"Content-Type\": \"application/json\"}, data=json.dumps({\n",
    "        \"embeddings_db\":\"TicketEmbeddings_\"+str(ticket_id)\n",
    "    }))\n",
    "reset_embeddings_db(1)"
   ]
  },
  {
   "cell_type": "code",
   "execution_count": 41,
   "metadata": {},
   "outputs": [],
   "source": [
    "\n",
    "def generate_ticket_info(ticket_id,section,content):\n",
    "    data = {\n",
    "        \"source\":section,\n",
    "        \"content\":content,\n",
    "        \"overlap\":50,\n",
    "        \"chunk_size\":255,\n",
    "        \"check_existing\":True,\n",
    "        \"embeddings_db\":\"TicketEmbeddings_\"+str(ticket_id),\n",
    "    }\n",
    "    return data\n",
    "def batch_insert(collection):\n",
    "\n",
    "    url = \"http://localhost:11435/api/embeddings/batch_insert_text_embeddings\"\n",
    "    headers = {\n",
    "        \"Content-Type\": \"application/json\"\n",
    "    }\n",
    "    response = requests.post(url, data=json.dumps({'embeddings':collection}), headers=headers)"
   ]
  },
  {
   "cell_type": "code",
   "execution_count": 42,
   "metadata": {},
   "outputs": [],
   "source": [
    "ticket_information = {\n",
    "    \"ticket_id\": 1,\n",
    "    \"ticket_description\": \"This is a ticket description\",\n",
    "    \"ticket_status\": \"Open\",\n",
    "    \"ticket_priority\": \"High\",\n",
    "    \"ticket_owner\": \"John Doe\",\n",
    "    \"ticket_created\": \"01-01-2021\",\n",
    "    \"ticket_updated\": \"01-01-2021\"\n",
    "}\n",
    "\n",
    "ticket_embedding_strings = []\n",
    "for key, value in ticket_information.items():\n",
    "    ticket_embedding_strings.append(f\"{key} is '{value}'\")"
   ]
  },
  {
   "cell_type": "code",
   "execution_count": 45,
   "metadata": {},
   "outputs": [],
   "source": [
    "embeddings_collection = []\n",
    "for  item in ticket_embedding_strings:\n",
    "    embeddings_collection.append(generate_ticket_info(ticket_information[\"ticket_id\"],\"ticket\",item))\n",
    "batch_insert(embeddings_collection)"
   ]
  },
  {
   "cell_type": "code",
   "execution_count": 35,
   "metadata": {},
   "outputs": [
    {
     "ename": "KeyError",
     "evalue": "'message'",
     "output_type": "error",
     "traceback": [
      "\u001b[0;31m---------------------------------------------------------------------------\u001b[0m",
      "\u001b[0;31mKeyError\u001b[0m                                  Traceback (most recent call last)",
      "Cell \u001b[0;32mIn[35], line 28\u001b[0m\n\u001b[1;32m     25\u001b[0m     data\u001b[38;5;241m=\u001b[39m response\u001b[38;5;241m.\u001b[39mjson()\n\u001b[1;32m     26\u001b[0m     html2print(data[\u001b[38;5;124m\"\u001b[39m\u001b[38;5;124mmessage\u001b[39m\u001b[38;5;124m\"\u001b[39m][\u001b[38;5;124m\"\u001b[39m\u001b[38;5;124mcontent\u001b[39m\u001b[38;5;124m\"\u001b[39m])\n\u001b[0;32m---> 28\u001b[0m \u001b[43mGenerateAiResponse\u001b[49m\u001b[43m(\u001b[49m\u001b[43mticket_id\u001b[49m\u001b[38;5;241;43m=\u001b[39;49m\u001b[38;5;241;43m1\u001b[39;49m\u001b[43m,\u001b[49m\u001b[43msystem_message\u001b[49m\u001b[38;5;241;43m=\u001b[39;49m\u001b[38;5;124;43m\"\"\"\u001b[39;49m\n\u001b[1;32m     29\u001b[0m \u001b[38;5;124;43mYou are Kathrin, 18 year old female grad student,\u001b[39;49m\n\u001b[1;32m     30\u001b[0m \u001b[38;5;124;43myou studdied in the US and now you are in Germany working as a service tech.\u001b[39;49m\n\u001b[1;32m     31\u001b[0m \u001b[38;5;124;43mYou are helpful but stay on topic,you are professional, you are not overly friendly, you are not overly formal.\u001b[39;49m\n\u001b[1;32m     32\u001b[0m \u001b[38;5;124;43mdont reitterate the ticket data unless necessary.\u001b[39;49m\n\u001b[1;32m     33\u001b[0m \u001b[38;5;124;43mOnly Respond to the user, no detail listing, the customer is not interested in the details of the ticket. and is to blame for the issue.\u001b[39;49m\n\u001b[1;32m     34\u001b[0m \u001b[38;5;124;43m\"\"\"\u001b[39;49m\u001b[43m,\u001b[49m\n\u001b[1;32m     35\u001b[0m \u001b[43mquery\u001b[49m\u001b[38;5;241;43m=\u001b[39;49m\u001b[38;5;124;43m\"\"\"\u001b[39;49m\u001b[38;5;124;43mPlease respond to ticket\u001b[39;49m\u001b[38;5;124;43m\"\"\"\u001b[39;49m\u001b[43m)\u001b[49m\n",
      "Cell \u001b[0;32mIn[35], line 26\u001b[0m, in \u001b[0;36mGenerateAiResponse\u001b[0;34m(ticket_id, system_message, query)\u001b[0m\n\u001b[1;32m     24\u001b[0m response \u001b[38;5;241m=\u001b[39m requests\u001b[38;5;241m.\u001b[39mpost(url, data\u001b[38;5;241m=\u001b[39mjson\u001b[38;5;241m.\u001b[39mdumps(data), headers\u001b[38;5;241m=\u001b[39mheaders)\n\u001b[1;32m     25\u001b[0m data\u001b[38;5;241m=\u001b[39m response\u001b[38;5;241m.\u001b[39mjson()\n\u001b[0;32m---> 26\u001b[0m html2print(\u001b[43mdata\u001b[49m\u001b[43m[\u001b[49m\u001b[38;5;124;43m\"\u001b[39;49m\u001b[38;5;124;43mmessage\u001b[39;49m\u001b[38;5;124;43m\"\u001b[39;49m\u001b[43m]\u001b[49m[\u001b[38;5;124m\"\u001b[39m\u001b[38;5;124mcontent\u001b[39m\u001b[38;5;124m\"\u001b[39m])\n",
      "\u001b[0;31mKeyError\u001b[0m: 'message'"
     ]
    }
   ],
   "source": [
    "#markdown render to console\n",
    "def html2print(markdown_data):\n",
    "    import markdown\n",
    "    from bs4 import BeautifulSoup\n",
    "    html = markdown.markdown(markdown_data)\n",
    "    soup = BeautifulSoup(html, \"html.parser\")\n",
    "    print(soup.get_text())\n",
    "\n",
    "\n",
    "def GenerateAiResponse(ticket_id,system_message,query):\n",
    "    url = \"http://localhost:11435/api/rag\"\n",
    "    data = {\n",
    "        \"prompt\":query,\n",
    "        \"system_message\":system_message,\n",
    "        \"model\":\"interstellarninja/hermes-2-theta-llama-3-8b\",\n",
    "        \"related_count\":20,\n",
    "        \"max_tokens\":100,\n",
    "        \"embeddings_db\":\"TicketEmbeddings_\"+str(ticket_id),\n",
    "        \"temperature\":0.9\n",
    "    }\n",
    "    headers = {\n",
    "        \"Content-Type\": \"application/json\"  \n",
    "    }\n",
    "    response = requests.post(url, data=json.dumps(data), headers=headers)\n",
    "    data= response.json()\n",
    "    html2print(data[\"message\"][\"content\"])\n",
    "\n",
    "GenerateAiResponse(ticket_id=1,system_message=\"\"\"\n",
    "You are Kathrin, 18 year old female grad student,\n",
    "you studdied in the US and now you are in Germany working as a service tech.\n",
    "You are helpful but stay on topic,you are professional, you are not overly friendly, you are not overly formal.\n",
    "dont reitterate the ticket data unless necessary.\n",
    "Only Respond to the user, no detail listing, the customer is not interested in the details of the ticket. and is to blame for the issue.\n",
    "\"\"\",\n",
    "query=\"\"\"Please respond to ticket\"\"\")"
   ]
  },
  {
   "cell_type": "code",
   "execution_count": null,
   "metadata": {},
   "outputs": [],
   "source": []
  },
  {
   "cell_type": "code",
   "execution_count": null,
   "metadata": {},
   "outputs": [],
   "source": []
  }
 ],
 "metadata": {
  "kernelspec": {
   "display_name": "Python 3",
   "language": "python",
   "name": "python3"
  },
  "language_info": {
   "codemirror_mode": {
    "name": "ipython",
    "version": 3
   },
   "file_extension": ".py",
   "mimetype": "text/x-python",
   "name": "python",
   "nbconvert_exporter": "python",
   "pygments_lexer": "ipython3",
   "version": "3.10.12"
  }
 },
 "nbformat": 4,
 "nbformat_minor": 2
}
