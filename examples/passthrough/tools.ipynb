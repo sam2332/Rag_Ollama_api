{
 "cells": [
  {
   "cell_type": "code",
   "execution_count": 2,
   "metadata": {},
   "outputs": [
    {
     "ename": "Exception",
     "evalue": "Does not work yet",
     "output_type": "error",
     "traceback": [
      "\u001b[0;31m---------------------------------------------------------------------------\u001b[0m",
      "\u001b[0;31mException\u001b[0m                                 Traceback (most recent call last)",
      "Cell \u001b[0;32mIn[2], line 2\u001b[0m\n\u001b[1;32m      1\u001b[0m \u001b[38;5;66;03m#Does not work yet\u001b[39;00m\n\u001b[0;32m----> 2\u001b[0m \u001b[38;5;28;01mraise\u001b[39;00m \u001b[38;5;167;01mException\u001b[39;00m(\u001b[38;5;124m\"\u001b[39m\u001b[38;5;124mDoes not work yet\u001b[39m\u001b[38;5;124m\"\u001b[39m)\n",
      "\u001b[0;31mException\u001b[0m: Does not work yet"
     ]
    }
   ],
   "source": [
    "#Does not work yet\n",
    "raise Exception(\"Does not work yet\")"
   ]
  },
  {
   "cell_type": "code",
   "execution_count": 10,
   "metadata": {},
   "outputs": [
    {
     "name": "stdout",
     "output_type": "stream",
     "text": [
      "{                                              }\n",
      "{'put_text_in_file': <function put_text_in_file at 0x7f7dec1296c0>, 'create_directory': <function create_directory at 0x7f7ddcdbbd00>}\n",
      "{}\n"
     ]
    },
    {
     "ename": "KeyError",
     "evalue": "'tool'",
     "output_type": "error",
     "traceback": [
      "\u001b[0;31m---------------------------------------------------------------------------\u001b[0m",
      "\u001b[0;31mKeyError\u001b[0m                                  Traceback (most recent call last)",
      "Cell \u001b[0;32mIn[10], line 99\u001b[0m\n\u001b[1;32m     97\u001b[0m \u001b[38;5;28;01melse\u001b[39;00m:\n\u001b[1;32m     98\u001b[0m     \u001b[38;5;28mprint\u001b[39m(reply_json)\n\u001b[0;32m---> 99\u001b[0m     tool \u001b[38;5;241m=\u001b[39m tool_matchings[\u001b[43mreply_json\u001b[49m\u001b[43m[\u001b[49m\u001b[38;5;124;43m'\u001b[39;49m\u001b[38;5;124;43mtool\u001b[39;49m\u001b[38;5;124;43m'\u001b[39;49m\u001b[43m]\u001b[49m]\n\u001b[1;32m    100\u001b[0m     arguments \u001b[38;5;241m=\u001b[39m reply_json[\u001b[38;5;124m'\u001b[39m\u001b[38;5;124marguments\u001b[39m\u001b[38;5;124m'\u001b[39m]\n\u001b[1;32m    101\u001b[0m     \u001b[38;5;28mprint\u001b[39m(tool(\u001b[38;5;241m*\u001b[39marguments)) \n",
      "\u001b[0;31mKeyError\u001b[0m: 'tool'"
     ]
    }
   ],
   "source": [
    "from datetime import datetime\n",
    "\n",
    "import requests\n",
    "import textwrap\n",
    "def LLM(prompt, system_message, temperature, max_tokens, model,return_json=False):\n",
    "    system_message = \"Todays DateTime:\"+datetime.now().strftime(\"%Y-%m-%d %H:00:00\")+\"\\n\"+system_message\n",
    "    url = 'http://localhost:11435/api/passthrough/chat'\n",
    "    headers = {'Content-Type': 'application/json'}\n",
    "    payload = {\n",
    "        'model': model,\n",
    "        'cache': '1h',\n",
    "        'keep_alive': '0m',\n",
    "        'messages': [\n",
    "            {'role': 'system', 'content': system_message},\n",
    "            {'role': 'user', 'content': prompt}\n",
    "        ],\n",
    "        'temperature': temperature,\n",
    "        'max_tokens': max_tokens,\n",
    "        'return_json': return_json\n",
    "    }\n",
    "\n",
    "    try:\n",
    "        response = requests.post(url, headers=headers, json=payload)\n",
    "        response.raise_for_status()  # Raise an HTTPError if the HTTP request returned an unsuccessful status code\n",
    "        data = response.json()\n",
    "        #print('Success:', data)\n",
    "        return data\n",
    "    except requests.exceptions.RequestException as error:\n",
    "        print('Error:', error)\n",
    "        raise\n",
    "\n",
    "\n",
    "\n",
    "\n",
    "import json\n",
    "def put_text_in_file(filename, text):\n",
    "    \"\"\" Write text to a file in the jail directory \"\"\"\n",
    "    with open(\"./jail/\" + filename, \"w\") as f:\n",
    "        f.write(text)\n",
    "    return \"./jail/\" + filename\n",
    "\n",
    "import json\n",
    "def create_directory(directory_name):\n",
    "    \"\"\" Create a directory in the jail directory \"\"\"\n",
    "    import os\n",
    "    os.makedirs(\"./jail/\" + directory_name)\n",
    "    return \"./jail/\" + directory_name\n",
    "\n",
    "\n",
    "my_tools = [put_text_in_file, create_directory]\n",
    "tools=[]\n",
    "tool_matchings = {}\n",
    "# use openai function to json module\n",
    "for tool in my_tools:\n",
    "    tools.append({\n",
    "        \"name\": tool.__name__,\n",
    "        \"doc\": tool.__doc__,\n",
    "        \"function_arguments\": tool.__code__.co_varnames[:tool.__code__.co_argcount],\n",
    "    })\n",
    "    tool_matchings[tool.__name__] = tool\n",
    "tools = json.dumps(tools, indent=2)\n",
    "system_message=\"\"\"\n",
    "\n",
    "Answer the following questions as best you can. \n",
    "You have access to the following tools:\n",
    "\"\"\"+tools+\"\"\"\n",
    "Use them in parallel to solve the problem.\n",
    "\n",
    "respond ONLY in multi item format of dictionaries in list\n",
    "[\n",
    "  {\n",
    "    \"tool\": \"name\",\n",
    "    \"arguments\": [\"arg1\", \"arg2\"]\n",
    "  },\n",
    "  {\n",
    "    \"tool\": \"name\",\n",
    "    \"arguments\": [\"arg1\", \"arg2\"]\n",
    "  }\n",
    "]\n",
    "Valid Json Only\n",
    "\"\"\"\n",
    "reply = LLM(\"\"\"\n",
    "\n",
    "write me a python tick tack toe game with a gui in seperate files\n",
    "\n",
    "\"\"\", system_message, 0.9, 1500, 'llama3:8b',return_json=True)\n",
    "print('\\n'.join(textwrap.wrap(reply['message']['content'], width=50)))\n",
    "print(tool_matchings)\n",
    "    \n",
    "reply_json = json.loads(reply['message']['content'])\n",
    "if type(reply_json) == list:\n",
    "    for tool_call in reply_json:\n",
    "        print(tool_call)\n",
    "        tool = tool_matchings[tool_call['tool']]\n",
    "        arguments = tool_call['arguments']\n",
    "        print(tool(*arguments))\n",
    "else:\n",
    "    print(reply_json)\n",
    "    tool = tool_matchings[reply_json['tool']]\n",
    "    arguments = reply_json['arguments']\n",
    "    print(tool(*arguments)) "
   ]
  },
  {
   "cell_type": "code",
   "execution_count": null,
   "metadata": {},
   "outputs": [],
   "source": []
  }
 ],
 "metadata": {
  "kernelspec": {
   "display_name": "Python 3",
   "language": "python",
   "name": "python3"
  },
  "language_info": {
   "codemirror_mode": {
    "name": "ipython",
    "version": 3
   },
   "file_extension": ".py",
   "mimetype": "text/x-python",
   "name": "python",
   "nbconvert_exporter": "python",
   "pygments_lexer": "ipython3",
   "version": "3.10.12"
  }
 },
 "nbformat": 4,
 "nbformat_minor": 2
}
