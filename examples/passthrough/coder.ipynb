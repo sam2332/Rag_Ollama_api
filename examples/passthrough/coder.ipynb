{
 "cells": [
  {
   "cell_type": "code",
   "execution_count": 26,
   "metadata": {},
   "outputs": [],
   "source": [
    "import requests\n",
    "import json\n",
    "import os\n",
    "import sys\n",
    "from dotenv import load_dotenv\n",
    "load_dotenv()\n",
    "import PySimpleGUI as sg\n"
   ]
  },
  {
   "cell_type": "code",
   "execution_count": 27,
   "metadata": {},
   "outputs": [],
   "source": [
    "def LLM(prompt, system_message, temperature, max_tokens, model,return_json=False):\n",
    "    url = 'http://localhost:11435/api/passthrough/chat'\n",
    "    headers = {'Content-Type': 'application/json'}\n",
    "    payload = {\n",
    "        'model': model,\n",
    "        'cache': '1h',\n",
    "        'keep_alive': '0m',\n",
    "        'messages': [\n",
    "            {'role': 'system', 'content': system_message},\n",
    "            {'role': 'user', 'content': prompt}\n",
    "        ],\n",
    "        'temperature': temperature,\n",
    "        'max_tokens': max_tokens,\n",
    "        'return_json': return_json\n",
    "    }\n",
    "\n",
    "    try:\n",
    "        response = requests.post(url, headers=headers, json=payload)\n",
    "        response.raise_for_status()  # Raise an HTTPError if the HTTP request returned an unsuccessful status code\n",
    "        data = response.json()\n",
    "        #print('Success:', data)\n",
    "        return data\n",
    "    except requests.exceptions.RequestException as error:\n",
    "        print('Error:', error)\n",
    "        raise\n"
   ]
  },
  {
   "cell_type": "code",
   "execution_count": 28,
   "metadata": {},
   "outputs": [],
   "source": [
    "def askUserWhatTheyWant():\n",
    "    layout=[[sg.Text('What do you want to do?')],\n",
    "            [sg.Multiline('', key='prompt', size=(50, 10))],\n",
    "            [sg.Button('Generate'), sg.Button('Exit')]]\n",
    "    window = sg.Window('Choose action', layout)\n",
    "    while True:\n",
    "        event, values = window.read()\n",
    "        if event == sg.WIN_CLOSED or event == 'Exit':\n",
    "            break\n",
    "        if event == 'Generate':\n",
    "            window.close()\n",
    "            print\n",
    "            return values['prompt']\n",
    "    window.close()\n",
    "    return None"
   ]
  },
  {
   "cell_type": "code",
   "execution_count": 29,
   "metadata": {},
   "outputs": [],
   "source": [
    "def show_output(output):\n",
    "    layout = [[sg.Text(output)]]\n",
    "    window = sg.Window('Output', layout)\n",
    "    event, values = window.read()\n",
    "    window.close()"
   ]
  },
  {
   "cell_type": "code",
   "execution_count": null,
   "metadata": {},
   "outputs": [],
   "source": [
    "import re\n",
    "def extractPython(text):\n",
    "    # extract from ```python to ``` or ``` or end of text\n",
    "    # return the extracted text\n",
    "    match = re.search(r'```python(.*?)```', text, re.DOTALL)\n",
    "    if match:\n",
    "        return match.group(1)\n",
    "    match = re.search(r'```(.*?)```', text, re.DOTALL)\n",
    "    if match:\n",
    "        return match.group(1)\n",
    "    return text"
   ]
  },
  {
   "cell_type": "code",
   "execution_count": 30,
   "metadata": {},
   "outputs": [],
   "source": [
    "def askUserIfCodeShouldRun(code):\n",
    "    # show code to user and ask if it should run it, make the window pretty big\n",
    "    layout = [[sg.Multiline(code, size=(80, 20), key='code')],\n",
    "            [sg.Button('Run'), sg.Button('Cancel')]]\n",
    "    window = sg.Window('Code', layout)\n",
    "    event, values = window.read()\n",
    "    window.close()\n",
    "    if event == 'Run':\n",
    "        old = sys.stdout\n",
    "        old_e = sys.stderr\n",
    "        sys.stdout = open('./jail/coder/output.txt', 'w')\n",
    "        sys.stderr = sys.stdout\n",
    "        try:\n",
    "            exec(code)\n",
    "        except Exception as e:\n",
    "            show_output(e)        \n",
    "        sys.stdout.close()\n",
    "        sys.stdout = old\n",
    "        sys.stderr = old_e\n",
    "        with open('./jail/coder/output.txt') as f:\n",
    "            output = f.read()\n",
    "            show_output(output)\n",
    "    else:\n",
    "        print(\"Code not executed\")\n",
    "        raise Exception(\"Code not executed\")"
   ]
  },
  {
   "cell_type": "code",
   "execution_count": 31,
   "metadata": {},
   "outputs": [],
   "source": [
    "def incremental_dump(response):\n",
    "    path = './jail/coder/'\n",
    "    if os.path.exists(path) == False:\n",
    "        os.makedirs(path)\n",
    "    index = 0\n",
    "    while os.path.exists(f'{path}{index}.py'):\n",
    "        index += 1\n",
    "    with open(f'{path}{index}.py', 'w') as f:\n",
    "        f.write(response)\n",
    "    return f'{path}{index}.py'"
   ]
  },
  {
   "cell_type": "code",
   "execution_count": 32,
   "metadata": {},
   "outputs": [
    {
     "ename": "NameError",
     "evalue": "name 'tk' is not defined",
     "output_type": "error",
     "traceback": [
      "\u001b[0;31m---------------------------------------------------------------------------\u001b[0m",
      "\u001b[0;31mNameError\u001b[0m                                 Traceback (most recent call last)",
      "Cell \u001b[0;32mIn[32], line 23\u001b[0m\n\u001b[1;32m     21\u001b[0m incremental_dump(reply)\n\u001b[1;32m     22\u001b[0m code \u001b[38;5;241m=\u001b[39m extractPython(reply[\u001b[38;5;124m'\u001b[39m\u001b[38;5;124mmessage\u001b[39m\u001b[38;5;124m'\u001b[39m][\u001b[38;5;124m'\u001b[39m\u001b[38;5;124mcontent\u001b[39m\u001b[38;5;124m'\u001b[39m])\n\u001b[0;32m---> 23\u001b[0m \u001b[43maskUserIfCodeShouldRun\u001b[49m\u001b[43m(\u001b[49m\u001b[43mcode\u001b[49m\u001b[43m)\u001b[49m\n",
      "Cell \u001b[0;32mIn[30], line 13\u001b[0m, in \u001b[0;36maskUserIfCodeShouldRun\u001b[0;34m(code)\u001b[0m\n\u001b[1;32m     11\u001b[0m sys\u001b[38;5;241m.\u001b[39mstdout \u001b[38;5;241m=\u001b[39m \u001b[38;5;28mopen\u001b[39m(\u001b[38;5;124m'\u001b[39m\u001b[38;5;124m./jail/coder/output.txt\u001b[39m\u001b[38;5;124m'\u001b[39m, \u001b[38;5;124m'\u001b[39m\u001b[38;5;124mw\u001b[39m\u001b[38;5;124m'\u001b[39m)\n\u001b[1;32m     12\u001b[0m sys\u001b[38;5;241m.\u001b[39mstderr \u001b[38;5;241m=\u001b[39m sys\u001b[38;5;241m.\u001b[39mstdout\n\u001b[0;32m---> 13\u001b[0m \u001b[43mexec\u001b[49m\u001b[43m(\u001b[49m\u001b[43mcode\u001b[49m\u001b[43m)\u001b[49m\n\u001b[1;32m     14\u001b[0m sys\u001b[38;5;241m.\u001b[39mstdout\u001b[38;5;241m.\u001b[39mclose()\n\u001b[1;32m     15\u001b[0m sys\u001b[38;5;241m.\u001b[39mstdout \u001b[38;5;241m=\u001b[39m old\n",
      "File \u001b[0;32m<string>:63\u001b[0m\n",
      "File \u001b[0;32m<string>:14\u001b[0m, in \u001b[0;36m__init__\u001b[0;34m(self, root)\u001b[0m\n",
      "\u001b[0;31mNameError\u001b[0m: name 'tk' is not defined"
     ]
    }
   ],
   "source": [
    "system_message=[i.strip() for i in \"\"\"\n",
    "    You only write python code, please code what the user wishes to do as completely as possible.\n",
    "    Large Responses are acceptable\n",
    "\"\"\".splitlines()].join('\\n')\n",
    "\n",
    "reply = LLM(askUserWhatTheyWant(), system_message, 0.2, 30000, 'llama3.1',return_json=False)\n",
    "show_output(reply['message']['content'])\n",
    "\n",
    "code = extractPython(reply['message']['content'])\n",
    "incremental_dump(code)\n",
    "askUserIfCodeShouldRun(code)"
   ]
  },
  {
   "cell_type": "code",
   "execution_count": null,
   "metadata": {},
   "outputs": [],
   "source": []
  }
 ],
 "metadata": {
  "kernelspec": {
   "display_name": "Python 3",
   "language": "python",
   "name": "python3"
  },
  "language_info": {
   "codemirror_mode": {
    "name": "ipython",
    "version": 3
   },
   "file_extension": ".py",
   "mimetype": "text/x-python",
   "name": "python",
   "nbconvert_exporter": "python",
   "pygments_lexer": "ipython3",
   "version": "3.10.12"
  }
 },
 "nbformat": 4,
 "nbformat_minor": 2
}
