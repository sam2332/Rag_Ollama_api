{
 "cells": [
  {
   "cell_type": "code",
   "execution_count": 5,
   "metadata": {},
   "outputs": [],
   "source": [
    "import requests\n",
    "from datetime import datetime\n",
    "def LLM(prompt, system_message, temperature, max_tokens, model,return_json=False):\n",
    "    system_message = \"Todays DateTime:\"+datetime.now().strftime(\"%Y-%m-%d %H:00:00\")+\"\\n\"+system_message\n",
    "\n",
    "    messages = [\n",
    "        {'role': 'system', 'content': system_message},\n",
    "    ]\n",
    "    if type(prompt) == list:\n",
    "        messages.extend(prompt)\n",
    "    elif type(prompt) == str:\n",
    "        messages.append({'role': 'user', 'content': prompt})\n",
    "    \n",
    "\n",
    "\n",
    "    url = 'http://localhost:11435/api/passthrough/chat'\n",
    "    headers = {'Content-Type': 'application/json'}\n",
    "    payload = {\n",
    "        'model': model,\n",
    "        'cache': '1h',\n",
    "        'keep_alive': '0m',\n",
    "        'messages': messages,\n",
    "        'temperature': temperature,\n",
    "        'max_tokens': max_tokens,\n",
    "        'return_json': return_json\n",
    "    }\n",
    "\n",
    "    try:\n",
    "        response = requests.post(url, headers=headers, json=payload)\n",
    "        response.raise_for_status()  # Raise an HTTPError if the HTTP request returned an unsuccessful status code\n",
    "        data = response.json()\n",
    "        #print('Success:', data)\n",
    "        return data\n",
    "    except requests.exceptions.RequestException as error:\n",
    "        print('Error:', error)\n",
    "        raise\n"
   ]
  },
  {
   "cell_type": "code",
   "execution_count": 7,
   "metadata": {},
   "outputs": [
    {
     "name": "stdout",
     "output_type": "stream",
     "text": [
      "{'model': 'dolphin-mistral:latest', 'created_at': '2024-06-05T18:26:07.951143859Z', 'message': {'role': 'assistant', 'content': \"As a level 99 wizard in Runescape2, I have honed my skills and gathered powerful spells and artifacts over time. Now, it's time to put them to use against the evil dragon that threatens our realm.\\n\\nUpon receiving the task, I immediately set out to gather information about the dragon's location, weaknesses, and any relevant clues that could aid me in my battle. After some thorough research, I discovered that the dragon resides deep within a treacherous cave system known as the Dragon Caverns.\\n\\nEquipping my best armor and wielding my most potent spells, I ventured into the Dragon Caverns, navigating through its dark, twisting passages. As I delved deeper, the air grew colder, and the echoes of my footsteps reverberated ominously against the cavern walls.\\n\\nFinally, after overcoming countless obstacles and battling fierce creatures guarding the dragon's lair, I confronted the evil beast in a breathtaking showdown. The battle was long and arduous, with both the dragon and myself unleashing our most powerful attacks on one another. However, my mastery of spells ultimately proved decisive, as I managed to weaken the dragon enough for it to be defeated.\\n\\nWith the evil dragon vanquished, I returned to my fellow adventurers triumphant, having fulfilled my task and protected our realm from further harm.\"}, 'done': True, 'total_duration': 2504352243, 'load_duration': 590714, 'prompt_eval_count': 30, 'prompt_eval_duration': 64912000, 'eval_count': 315, 'eval_duration': 2437112000}\n"
     ]
    }
   ],
   "source": [
    "history = []\n",
    "system_message = \"\"\"You are playing runescape2, please react to the following\n",
    "\n",
    "\"\"\"\n",
    "response = LLM(history, system_message, 0.5, 60, \"dolphin-mistral:latest\")\n",
    "print(response)\n",
    "while True:\n",
    "    prompt = input(\"Enter your prompt: \")\n",
    "    if prompt == \"exit\":\n",
    "        break\n",
    "    history.append({'role': 'user', 'content': prompt})\n",
    "    response = LLM(history, system_message, 0.5, 60, \"dolphin-mistral:latest\")\n",
    "    print(response['message']['content'])\n",
    "    history.append(response['message'])\n",
    "    print(\"\")"
   ]
  },
  {
   "cell_type": "code",
   "execution_count": null,
   "metadata": {},
   "outputs": [],
   "source": []
  }
 ],
 "metadata": {
  "kernelspec": {
   "display_name": "Python 3",
   "language": "python",
   "name": "python3"
  },
  "language_info": {
   "codemirror_mode": {
    "name": "ipython",
    "version": 3
   },
   "file_extension": ".py",
   "mimetype": "text/x-python",
   "name": "python",
   "nbconvert_exporter": "python",
   "pygments_lexer": "ipython3",
   "version": "3.10.12"
  }
 },
 "nbformat": 4,
 "nbformat_minor": 2
}
